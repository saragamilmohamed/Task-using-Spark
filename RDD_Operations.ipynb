{
  "cells": [
    {
      "cell_type": "markdown",
      "id": "2568221b",
      "metadata": {
        "id": "2568221b"
      },
      "source": [
        "### Import the required libraries then Create SparkContext"
      ]
    },
    {
      "cell_type": "code",
      "source": [
        "##!pip install pyspark"
      ],
      "metadata": {
        "colab": {
          "base_uri": "https://localhost:8080/"
        },
        "id": "lRE1tCzSajeU",
        "outputId": "b1e695fa-1598-4435-9189-1416e1fb9fc7"
      },
      "id": "lRE1tCzSajeU",
      "execution_count": 1,
      "outputs": [
        {
          "output_type": "stream",
          "name": "stdout",
          "text": [
            "Requirement already satisfied: pyspark in /usr/local/lib/python3.11/dist-packages (3.5.1)\n",
            "Requirement already satisfied: py4j==0.10.9.7 in /usr/local/lib/python3.11/dist-packages (from pyspark) (0.10.9.7)\n"
          ]
        }
      ]
    },
    {
      "cell_type": "code",
      "execution_count": 2,
      "id": "65e6978c",
      "metadata": {
        "id": "65e6978c"
      },
      "outputs": [],
      "source": [
        "import pyspark\n",
        "from pyspark.sql import SparkSession\n",
        "spark = SparkSession.builder.getOrCreate()\n",
        "sc = spark.sparkContext"
      ]
    },
    {
      "cell_type": "markdown",
      "id": "e9a7d9c6",
      "metadata": {
        "id": "e9a7d9c6"
      },
      "source": [
        "### Create and display an RDD from the following list"
      ]
    },
    {
      "cell_type": "code",
      "execution_count": 3,
      "id": "409084ef",
      "metadata": {
        "id": "409084ef"
      },
      "outputs": [],
      "source": [
        "list_1 = [('JK', 22), ('V', 24), ('Jimin',24), ('RM', 25), ('J-Hope', 25), ('Suga', 26), ('Jin', 27)]"
      ]
    },
    {
      "cell_type": "code",
      "source": [
        "rdd_1=sc.parallelize(list_1)\n",
        "rdd_1.collect()"
      ],
      "metadata": {
        "colab": {
          "base_uri": "https://localhost:8080/"
        },
        "id": "Wgd6kNM_axcG",
        "outputId": "29e5ef71-5787-4f7a-a4dc-ef8fed0caf58"
      },
      "id": "Wgd6kNM_axcG",
      "execution_count": 4,
      "outputs": [
        {
          "output_type": "execute_result",
          "data": {
            "text/plain": [
              "[('JK', 22),\n",
              " ('V', 24),\n",
              " ('Jimin', 24),\n",
              " ('RM', 25),\n",
              " ('J-Hope', 25),\n",
              " ('Suga', 26),\n",
              " ('Jin', 27)]"
            ]
          },
          "metadata": {},
          "execution_count": 4
        }
      ]
    },
    {
      "cell_type": "code",
      "execution_count": null,
      "id": "d5ba0725",
      "metadata": {
        "scrolled": false,
        "id": "d5ba0725",
        "outputId": "390070da-9517-465b-b213-ea94bb3b325e"
      },
      "outputs": [
        {
          "data": {
            "text/plain": [
              "[('JK', 22),\n",
              " ('V', 24),\n",
              " ('Jimin', 24),\n",
              " ('RM', 25),\n",
              " ('J-Hope', 25),\n",
              " ('Suga', 26),\n",
              " ('Jin', 27)]"
            ]
          },
          "execution_count": 4,
          "metadata": {},
          "output_type": "execute_result"
        }
      ],
      "source": []
    },
    {
      "cell_type": "markdown",
      "id": "823af0d6",
      "metadata": {
        "id": "823af0d6"
      },
      "source": [
        "### Create a sample1.txt file to contain the text shown below."
      ]
    },
    {
      "cell_type": "code",
      "execution_count": 5,
      "id": "66668929",
      "metadata": {
        "id": "66668929"
      },
      "outputs": [],
      "source": [
        "text='''Utilitatis causa amicitia est quaesita.\n",
        "Lorem ipsum dolor sit amet, consectetur adipiscing elit.\n",
        "Collatio igitur ista tenihil iuvat.\n",
        "Honesta oratio, Socratica, Platonis etiam.\n",
        "Primum in nostranepotestate est, quid meminerimus?\n",
        "Duo Reges: constructio interrete.\n",
        "Quid, sietiam iucunda memoria est praeteritorum malorum?\n",
        "Si quidem, inquit, tollerem,'''"
      ]
    },
    {
      "cell_type": "code",
      "source": [
        "rdd_file=sc.parallelize([text])"
      ],
      "metadata": {
        "id": "8oe6-I51bRBg"
      },
      "id": "8oe6-I51bRBg",
      "execution_count": 6,
      "outputs": []
    },
    {
      "cell_type": "code",
      "source": [
        "!rm -rf sample1.txt"
      ],
      "metadata": {
        "id": "W4NiZs1pdL1t"
      },
      "id": "W4NiZs1pdL1t",
      "execution_count": 10,
      "outputs": []
    },
    {
      "cell_type": "code",
      "source": [
        "rdd_file.saveAsTextFile('sample1.txt')\n"
      ],
      "metadata": {
        "id": "9-J3VN1QbEHY"
      },
      "id": "9-J3VN1QbEHY",
      "execution_count": 11,
      "outputs": []
    },
    {
      "cell_type": "markdown",
      "id": "49249054",
      "metadata": {
        "id": "49249054"
      },
      "source": [
        "### Read sample1.txt file into RDD and displaying the first 4 elements"
      ]
    },
    {
      "cell_type": "code",
      "source": [
        "rdd_file_1=sc.textFile('sample1.txt')\n",
        "rdd_file_1.take(10)"
      ],
      "metadata": {
        "colab": {
          "base_uri": "https://localhost:8080/"
        },
        "id": "9SF859n-c5CM",
        "outputId": "9ea3f857-a752-433a-d8f0-3d6b40046028"
      },
      "id": "9SF859n-c5CM",
      "execution_count": 12,
      "outputs": [
        {
          "output_type": "execute_result",
          "data": {
            "text/plain": [
              "['Utilitatis causa amicitia est quaesita.',\n",
              " 'Lorem ipsum dolor sit amet, consectetur adipiscing elit. ',\n",
              " 'Collatio igitur ista tenihil iuvat. ',\n",
              " 'Honesta oratio, Socratica, Platonis etiam. ',\n",
              " 'Primum in nostranepotestate est, quid meminerimus? ',\n",
              " 'Duo Reges: constructio interrete.',\n",
              " 'Quid, sietiam iucunda memoria est praeteritorum malorum? ',\n",
              " 'Si quidem, inquit, tollerem,']"
            ]
          },
          "metadata": {},
          "execution_count": 12
        }
      ]
    },
    {
      "cell_type": "code",
      "execution_count": null,
      "id": "0732dc1d",
      "metadata": {
        "id": "0732dc1d",
        "outputId": "317f23e1-cafe-4e95-d4c2-80d43c6df313"
      },
      "outputs": [
        {
          "data": {
            "text/plain": [
              "['Utilitatis causa amicitia est quaesita.',\n",
              " 'Lorem ipsum dolor sit amet, consectetur adipiscing elit. ',\n",
              " 'Collatio igitur ista tenihil iuvat. ',\n",
              " 'Honesta oratio, Socratica, Platonis etiam. ']"
            ]
          },
          "execution_count": 6,
          "metadata": {},
          "output_type": "execute_result"
        }
      ],
      "source": []
    },
    {
      "cell_type": "markdown",
      "id": "f0194c12",
      "metadata": {
        "id": "f0194c12"
      },
      "source": [
        "### Count the total number of rows in RDD"
      ]
    },
    {
      "cell_type": "code",
      "execution_count": 13,
      "id": "09f9d486",
      "metadata": {
        "colab": {
          "base_uri": "https://localhost:8080/"
        },
        "id": "09f9d486",
        "outputId": "61b7a6eb-1aeb-4fb1-d5a6-a1c49ca614d5"
      },
      "outputs": [
        {
          "output_type": "execute_result",
          "data": {
            "text/plain": [
              "8"
            ]
          },
          "metadata": {},
          "execution_count": 13
        }
      ],
      "source": [
        "rdd_file_1.count()"
      ]
    },
    {
      "cell_type": "markdown",
      "id": "e7c4dc87",
      "metadata": {
        "id": "e7c4dc87"
      },
      "source": [
        "### Create a function to convert the data into lower case and splitting it"
      ]
    },
    {
      "cell_type": "code",
      "source": [
        "rdd_file_lower=rdd_file_1.map(lambda x:x.lower().split(' '))\n",
        "rdd_file_lower.take(10)"
      ],
      "metadata": {
        "colab": {
          "base_uri": "https://localhost:8080/"
        },
        "id": "xr4hNBXCdhIU",
        "outputId": "be24e439-dfa7-4a2a-eca3-ee63f1a486a6"
      },
      "id": "xr4hNBXCdhIU",
      "execution_count": 14,
      "outputs": [
        {
          "output_type": "execute_result",
          "data": {
            "text/plain": [
              "[['utilitatis', 'causa', 'amicitia', 'est', 'quaesita.'],\n",
              " ['lorem',\n",
              "  'ipsum',\n",
              "  'dolor',\n",
              "  'sit',\n",
              "  'amet,',\n",
              "  'consectetur',\n",
              "  'adipiscing',\n",
              "  'elit.',\n",
              "  ''],\n",
              " ['collatio', 'igitur', 'ista', 'tenihil', 'iuvat.', ''],\n",
              " ['honesta', 'oratio,', 'socratica,', 'platonis', 'etiam.', ''],\n",
              " ['primum', 'in', 'nostranepotestate', 'est,', 'quid', 'meminerimus?', ''],\n",
              " ['duo', 'reges:', 'constructio', 'interrete.'],\n",
              " ['quid,',\n",
              "  'sietiam',\n",
              "  'iucunda',\n",
              "  'memoria',\n",
              "  'est',\n",
              "  'praeteritorum',\n",
              "  'malorum?',\n",
              "  ''],\n",
              " ['si', 'quidem,', 'inquit,', 'tollerem,']]"
            ]
          },
          "metadata": {},
          "execution_count": 14
        }
      ]
    },
    {
      "cell_type": "code",
      "execution_count": null,
      "id": "82cd28bc",
      "metadata": {
        "scrolled": true,
        "id": "82cd28bc",
        "outputId": "744057b8-1a43-4f78-adf7-f0b8581ec7df"
      },
      "outputs": [
        {
          "data": {
            "text/plain": [
              "[['utilitatis', 'causa', 'amicitia', 'est', 'quaesita.'],\n",
              " ['lorem',\n",
              "  'ipsum',\n",
              "  'dolor',\n",
              "  'sit',\n",
              "  'amet,',\n",
              "  'consectetur',\n",
              "  'adipiscing',\n",
              "  'elit.'],\n",
              " ['collatio', 'igitur', 'ista', 'tenihil', 'iuvat.'],\n",
              " ['honesta', 'oratio,', 'socratica,', 'platonis', 'etiam.'],\n",
              " ['primum', 'in', 'nostranepotestate', 'est,', 'quid', 'meminerimus?']]"
            ]
          },
          "execution_count": 8,
          "metadata": {},
          "output_type": "execute_result"
        }
      ],
      "source": []
    },
    {
      "cell_type": "markdown",
      "id": "7437d37f",
      "metadata": {
        "id": "7437d37f"
      },
      "source": [
        "### Remove the stopwords from the previous text. i.e. Remove it."
      ]
    },
    {
      "cell_type": "code",
      "execution_count": 15,
      "id": "358d6cd7",
      "metadata": {
        "id": "358d6cd7"
      },
      "outputs": [],
      "source": [
        "stopwords = ['a','all','the','as','is','am','an','and',\n",
        "             'be','been','from','had','I','I’d','why','with']\n",
        "# Hint: you may need use flatMap"
      ]
    },
    {
      "cell_type": "code",
      "source": [
        "rdd_remove_stopwords=rdd_file_lower.flatMap(lambda x:[word for word in x if word not in stopwords])\n",
        "rdd_remove_stopwords.take(10)"
      ],
      "metadata": {
        "colab": {
          "base_uri": "https://localhost:8080/"
        },
        "id": "DazoPuNQd9I-",
        "outputId": "82cc7437-09ae-467c-fe4f-ee147ea0ba2b"
      },
      "id": "DazoPuNQd9I-",
      "execution_count": 16,
      "outputs": [
        {
          "output_type": "execute_result",
          "data": {
            "text/plain": [
              "['utilitatis',\n",
              " 'causa',\n",
              " 'amicitia',\n",
              " 'est',\n",
              " 'quaesita.',\n",
              " 'lorem',\n",
              " 'ipsum',\n",
              " 'dolor',\n",
              " 'sit',\n",
              " 'amet,']"
            ]
          },
          "metadata": {},
          "execution_count": 16
        }
      ]
    },
    {
      "cell_type": "code",
      "execution_count": null,
      "id": "7a03bf98",
      "metadata": {
        "id": "7a03bf98",
        "outputId": "6a5f12e7-4bb3-42ea-9099-8dc5f4a421a3"
      },
      "outputs": [
        {
          "data": {
            "text/plain": [
              "['utilitatis',\n",
              " 'causa',\n",
              " 'amicitia',\n",
              " 'est',\n",
              " 'quaesita.',\n",
              " 'lorem',\n",
              " 'ipsum',\n",
              " 'dolor',\n",
              " 'sit',\n",
              " 'amet,',\n",
              " 'consectetur',\n",
              " 'adipiscing',\n",
              " 'elit.',\n",
              " 'collatio',\n",
              " 'igitur',\n",
              " 'ista',\n",
              " 'tenihil',\n",
              " 'iuvat.',\n",
              " 'honesta',\n",
              " 'oratio,',\n",
              " 'socratica,',\n",
              " 'platonis',\n",
              " 'etiam.',\n",
              " 'primum',\n",
              " 'in',\n",
              " 'nostranepotestate',\n",
              " 'est,',\n",
              " 'quid',\n",
              " 'meminerimus?',\n",
              " 'duo',\n",
              " 'reges:',\n",
              " 'constructio',\n",
              " 'interrete.',\n",
              " 'quid,',\n",
              " 'sietiam',\n",
              " 'iucunda',\n",
              " 'memoria',\n",
              " 'est',\n",
              " 'praeteritorum',\n",
              " 'malorum?',\n",
              " 'si',\n",
              " 'quidem,',\n",
              " 'inquit,',\n",
              " 'tollerem,']"
            ]
          },
          "execution_count": 11,
          "metadata": {},
          "output_type": "execute_result"
        }
      ],
      "source": []
    },
    {
      "cell_type": "markdown",
      "id": "fb9f6058",
      "metadata": {
        "id": "fb9f6058"
      },
      "source": [
        "### Find the words starting with ‘c’"
      ]
    },
    {
      "cell_type": "code",
      "source": [
        "rdd_start_c=rdd_remove_stopwords.filter(lambda x:x.startswith('c'))\n",
        "rdd_start_c.take(10)"
      ],
      "metadata": {
        "colab": {
          "base_uri": "https://localhost:8080/"
        },
        "id": "HUSaQE3SrSGZ",
        "outputId": "533a6760-ce05-4a79-cced-252f4110bea2"
      },
      "id": "HUSaQE3SrSGZ",
      "execution_count": 17,
      "outputs": [
        {
          "output_type": "execute_result",
          "data": {
            "text/plain": [
              "['causa', 'consectetur', 'collatio', 'constructio']"
            ]
          },
          "metadata": {},
          "execution_count": 17
        }
      ]
    },
    {
      "cell_type": "code",
      "execution_count": null,
      "id": "6407c39b",
      "metadata": {
        "id": "6407c39b",
        "outputId": "056d8e00-984d-4bcc-90cb-b2559c72c91d"
      },
      "outputs": [
        {
          "data": {
            "text/plain": [
              "['causa', 'consectetur', 'collatio', 'constructio']"
            ]
          },
          "execution_count": 12,
          "metadata": {},
          "output_type": "execute_result"
        }
      ],
      "source": []
    },
    {
      "cell_type": "markdown",
      "id": "eba39e2e",
      "metadata": {
        "id": "eba39e2e"
      },
      "source": [
        "### Reduce the data by key and sum it (use the data from the following list)"
      ]
    },
    {
      "cell_type": "code",
      "execution_count": 18,
      "id": "f26dea46",
      "metadata": {
        "id": "f26dea46"
      },
      "outputs": [],
      "source": [
        "list_2 = [('JK', 22), ('V', 24), ('Jimin',24), ('RM', 25)\n",
        "        , ('J-Hope', 25), ('Suga', 26), ('Jin', 27)\n",
        "       , ('J-Hope', 12), ('Suga', 25), ('Jin', 34)\n",
        "       , ('JK', 32), ('V', 44), ('Jimin',14), ('RM', 35)]\n",
        "# Hint: use reduceByKey"
      ]
    },
    {
      "cell_type": "code",
      "source": [
        "rdd_reduce=sc.parallelize(list_2)\n",
        "rdd_reduce.collect()"
      ],
      "metadata": {
        "colab": {
          "base_uri": "https://localhost:8080/"
        },
        "id": "5eqkfOIjrm3h",
        "outputId": "ca7cd259-66cf-4a0c-b8ba-544e42a877c5"
      },
      "id": "5eqkfOIjrm3h",
      "execution_count": 19,
      "outputs": [
        {
          "output_type": "execute_result",
          "data": {
            "text/plain": [
              "[('JK', 22),\n",
              " ('V', 24),\n",
              " ('Jimin', 24),\n",
              " ('RM', 25),\n",
              " ('J-Hope', 25),\n",
              " ('Suga', 26),\n",
              " ('Jin', 27),\n",
              " ('J-Hope', 12),\n",
              " ('Suga', 25),\n",
              " ('Jin', 34),\n",
              " ('JK', 32),\n",
              " ('V', 44),\n",
              " ('Jimin', 14),\n",
              " ('RM', 35)]"
            ]
          },
          "metadata": {},
          "execution_count": 19
        }
      ]
    },
    {
      "cell_type": "code",
      "source": [
        "rdd_reduce_key=rdd_reduce.reduceByKey(lambda x,y:x+y)\n",
        "rdd_reduce_key.collect()"
      ],
      "metadata": {
        "colab": {
          "base_uri": "https://localhost:8080/"
        },
        "id": "y-xVThNjrxfN",
        "outputId": "4966893e-6f12-4bdf-b2f1-dec6a5b4d16d"
      },
      "id": "y-xVThNjrxfN",
      "execution_count": 20,
      "outputs": [
        {
          "output_type": "execute_result",
          "data": {
            "text/plain": [
              "[('Jimin', 38),\n",
              " ('RM', 60),\n",
              " ('J-Hope', 37),\n",
              " ('Suga', 51),\n",
              " ('JK', 54),\n",
              " ('V', 68),\n",
              " ('Jin', 61)]"
            ]
          },
          "metadata": {},
          "execution_count": 20
        }
      ]
    },
    {
      "cell_type": "code",
      "execution_count": null,
      "id": "ae551b82",
      "metadata": {
        "id": "ae551b82",
        "outputId": "2d06a2a5-bc05-4d85-8988-14655084c161"
      },
      "outputs": [
        {
          "data": {
            "text/plain": [
              "[('Suga', 51),\n",
              " ('Jin', 61),\n",
              " ('JK', 54),\n",
              " ('V', 68),\n",
              " ('Jimin', 38),\n",
              " ('RM', 60),\n",
              " ('J-Hope', 37)]"
            ]
          },
          "execution_count": 25,
          "metadata": {},
          "output_type": "execute_result"
        }
      ],
      "source": []
    },
    {
      "cell_type": "markdown",
      "id": "a4587230",
      "metadata": {
        "id": "a4587230"
      },
      "source": [
        "### Creat some key value pairs RDDs"
      ]
    },
    {
      "cell_type": "code",
      "execution_count": 21,
      "id": "cfb446ee",
      "metadata": {
        "id": "cfb446ee"
      },
      "outputs": [],
      "source": [
        "rdd1 = sc.parallelize([('a',2),('b',3)])\n",
        "rdd2 = sc.parallelize([('a',9),('b',7),('c',10)])"
      ]
    },
    {
      "cell_type": "code",
      "source": [
        "rdd1.collect()"
      ],
      "metadata": {
        "colab": {
          "base_uri": "https://localhost:8080/"
        },
        "id": "0jFofAJDr_93",
        "outputId": "04eac27b-100a-4e24-d0a5-64279cfbb306"
      },
      "id": "0jFofAJDr_93",
      "execution_count": 22,
      "outputs": [
        {
          "output_type": "execute_result",
          "data": {
            "text/plain": [
              "[('a', 2), ('b', 3)]"
            ]
          },
          "metadata": {},
          "execution_count": 22
        }
      ]
    },
    {
      "cell_type": "code",
      "execution_count": null,
      "id": "e4ef9f47",
      "metadata": {
        "id": "e4ef9f47",
        "outputId": "4ba20b91-02bb-4c4c-f97d-58435348befa"
      },
      "outputs": [
        {
          "data": {
            "text/plain": [
              "[('a', 2), ('b', 3)]"
            ]
          },
          "execution_count": 15,
          "metadata": {},
          "output_type": "execute_result"
        }
      ],
      "source": []
    },
    {
      "cell_type": "code",
      "execution_count": 23,
      "id": "d16f7ae9",
      "metadata": {
        "colab": {
          "base_uri": "https://localhost:8080/"
        },
        "id": "d16f7ae9",
        "outputId": "99022b76-5bd8-431e-db8c-3cd06225249b"
      },
      "outputs": [
        {
          "output_type": "execute_result",
          "data": {
            "text/plain": [
              "[('a', 9), ('b', 7), ('c', 10)]"
            ]
          },
          "metadata": {},
          "execution_count": 23
        }
      ],
      "source": [
        "rdd2.collect()"
      ]
    },
    {
      "cell_type": "markdown",
      "id": "98ec3168",
      "metadata": {
        "id": "98ec3168"
      },
      "source": [
        "### Perform Join operation on the RDDs (rdd1,rdd2)"
      ]
    },
    {
      "cell_type": "code",
      "source": [
        "rdd_joined=rdd1.join(rdd2)\n",
        "rdd_joined.collect()"
      ],
      "metadata": {
        "colab": {
          "base_uri": "https://localhost:8080/"
        },
        "id": "gHJLI-rrsWdV",
        "outputId": "1e2557f1-f02b-463c-bce1-39b7168fdc64"
      },
      "id": "gHJLI-rrsWdV",
      "execution_count": 24,
      "outputs": [
        {
          "output_type": "execute_result",
          "data": {
            "text/plain": [
              "[('b', (3, 7)), ('a', (2, 9))]"
            ]
          },
          "metadata": {},
          "execution_count": 24
        }
      ]
    },
    {
      "cell_type": "code",
      "execution_count": null,
      "id": "c61b5926",
      "metadata": {
        "id": "c61b5926",
        "outputId": "d93bd25c-6c24-448b-b995-53582a7a6c9d"
      },
      "outputs": [
        {
          "data": {
            "text/plain": [
              "[('b', (3, 7)), ('a', (2, 9))]"
            ]
          },
          "execution_count": 33,
          "metadata": {},
          "output_type": "execute_result"
        }
      ],
      "source": []
    },
    {
      "cell_type": "code",
      "execution_count": null,
      "id": "5fc98e9f",
      "metadata": {
        "id": "5fc98e9f"
      },
      "outputs": [],
      "source": []
    }
  ],
  "metadata": {
    "kernelspec": {
      "display_name": "Python 3 (ipykernel)",
      "language": "python",
      "name": "python3"
    },
    "language_info": {
      "codemirror_mode": {
        "name": "ipython",
        "version": 3
      },
      "file_extension": ".py",
      "mimetype": "text/x-python",
      "name": "python",
      "nbconvert_exporter": "python",
      "pygments_lexer": "ipython3",
      "version": "3.9.12"
    },
    "colab": {
      "provenance": []
    }
  },
  "nbformat": 4,
  "nbformat_minor": 5
}