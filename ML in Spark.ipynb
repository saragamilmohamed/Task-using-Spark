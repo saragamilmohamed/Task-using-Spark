{
  "cells": [
    {
      "cell_type": "code",
      "execution_count": null,
      "metadata": {
        "id": "7rbAqWKaPnU-",
        "outputId": "2ef2eb64-a13a-4a4c-fb69-6c49f83250ed",
        "colab": {
          "base_uri": "https://localhost:8080/",
          "height": 17
        }
      },
      "outputs": [
        {
          "output_type": "display_data",
          "data": {
            "text/plain": [
              "<IPython.core.display.HTML object>"
            ],
            "text/html": [
              "<style>pre { white-space: pre !important; }</style>"
            ]
          },
          "metadata": {}
        }
      ],
      "source": [
        "from IPython.display import display, HTML\n",
        "display(HTML(\"<style>pre { white-space: pre !important; }</style>\"))"
      ]
    },
    {
      "cell_type": "markdown",
      "metadata": {
        "id": "5ZzrhGnHkRCU"
      },
      "source": [
        "### Our task is to develop a regression model that will predict the number of  crew members required for future ships from the given features."
      ]
    },
    {
      "cell_type": "code",
      "source": [
        "from google.colab import drive\n",
        "drive.mount('/content/drive')"
      ],
      "metadata": {
        "colab": {
          "base_uri": "https://localhost:8080/"
        },
        "id": "Q2b0U5UeVUzz",
        "outputId": "1bf79cc7-26e0-4d54-81fb-d9c23f537f99"
      },
      "execution_count": null,
      "outputs": [
        {
          "output_type": "stream",
          "name": "stdout",
          "text": [
            "Drive already mounted at /content/drive; to attempt to forcibly remount, call drive.mount(\"/content/drive\", force_remount=True).\n"
          ]
        }
      ]
    },
    {
      "cell_type": "code",
      "execution_count": null,
      "metadata": {
        "id": "lTLqjBOjPnVE"
      },
      "outputs": [],
      "source": [
        "import pyspark\n",
        "from pyspark.sql import SparkSession\n",
        "spark = SparkSession.builder.master(\"local[*]\").getOrCreate()\n",
        "\n",
        "from pyspark.ml.regression import LinearRegression\n",
        "from pyspark.ml.feature import VectorAssembler, StringIndexer, OneHotEncoder,Imputer\n",
        "from pyspark.ml import Pipeline\n",
        "from pyspark.ml.evaluation import RegressionEvaluator"
      ]
    },
    {
      "cell_type": "markdown",
      "metadata": {
        "id": "RUPAp840PnVF"
      },
      "source": [
        "### Read the data Crew.csv into spark dataframe\n",
        "- inferSchema=True and header=True.\n",
        "- Print the schema and show the first few rows.\n",
        "- Use df.describe() to see the statistical properties of the data."
      ]
    },
    {
      "cell_type": "code",
      "execution_count": null,
      "metadata": {
        "id": "Xy1t-vbYZnN_"
      },
      "outputs": [],
      "source": [
        "df=spark.read.csv(\"/content/drive/MyDrive/Data (1)/Data/Crew.csv\",inferSchema=True,header=True)"
      ]
    },
    {
      "cell_type": "code",
      "source": [
        "df.printSchema()"
      ],
      "metadata": {
        "colab": {
          "base_uri": "https://localhost:8080/"
        },
        "id": "feGAyO8tWAe1",
        "outputId": "7d63994c-8cde-4034-ba68-1b63f34a4de7"
      },
      "execution_count": null,
      "outputs": [
        {
          "output_type": "stream",
          "name": "stdout",
          "text": [
            "root\n",
            " |-- Ship_name: string (nullable = true)\n",
            " |-- Cruise_line: string (nullable = true)\n",
            " |-- Age: integer (nullable = true)\n",
            " |-- Tonnage: double (nullable = true)\n",
            " |-- passengers: double (nullable = true)\n",
            " |-- length: double (nullable = true)\n",
            " |-- cabins: double (nullable = true)\n",
            " |-- passenger_density: double (nullable = true)\n",
            " |-- crew: double (nullable = true)\n",
            "\n"
          ]
        }
      ]
    },
    {
      "cell_type": "code",
      "source": [
        "df.show(20)"
      ],
      "metadata": {
        "colab": {
          "base_uri": "https://localhost:8080/"
        },
        "id": "hGujZmG-WIZ-",
        "outputId": "e36b8d16-083a-4c3b-e98b-6df89cbc4aa9"
      },
      "execution_count": null,
      "outputs": [
        {
          "output_type": "stream",
          "name": "stdout",
          "text": [
            "+-----------+-----------+---+------------------+----------+------+------+-----------------+----+\n",
            "|  Ship_name|Cruise_line|Age|           Tonnage|passengers|length|cabins|passenger_density|crew|\n",
            "+-----------+-----------+---+------------------+----------+------+------+-----------------+----+\n",
            "|    Journey|    Azamara|  6|30.276999999999997|      6.94|  5.94|  3.55|            42.64|3.55|\n",
            "|      Quest|    Azamara|  6|30.276999999999997|      6.94|  5.94|  3.55|            42.64|3.55|\n",
            "|Celebration|   Carnival| 26|            47.262|     14.86|  7.22|  7.43|             31.8| 6.7|\n",
            "|   Conquest|   Carnival| 11|             110.0|     29.74|  9.53| 14.88|            36.99|19.1|\n",
            "|    Destiny|   Carnival| 17|           101.353|     26.42|  8.92| 13.21|            38.36|10.0|\n",
            "|    Ecstasy|   Carnival| 22|            70.367|     20.52|  8.55|  10.2|            34.29| 9.2|\n",
            "|    Elation|   Carnival| 15|            70.367|     20.52|  8.55|  10.2|            34.29| 9.2|\n",
            "|    Fantasy|   Carnival| 23|            70.367|     20.56|  8.55| 10.22|            34.23| 9.2|\n",
            "|Fascination|   Carnival| 19|            70.367|     20.52|  8.55|  10.2|            34.29| 9.2|\n",
            "|    Freedom|   Carnival|  6|110.23899999999999|      37.0|  9.51| 14.87|            29.79|11.5|\n",
            "|      Glory|   Carnival| 10|             110.0|     29.74|  9.51| 14.87|            36.99|11.6|\n",
            "|    Holiday|   Carnival| 28|            46.052|     14.52|  7.27|  7.26|            31.72| 6.6|\n",
            "|Imagination|   Carnival| 18|            70.367|     20.52|  8.55|  10.2|            34.29| 9.2|\n",
            "|Inspiration|   Carnival| 17|            70.367|     20.52|  8.55|  10.2|            34.29| 9.2|\n",
            "|     Legend|   Carnival| 11|              86.0|     21.24|  9.63| 10.62|            40.49| 9.3|\n",
            "|   Liberty*|   Carnival|  8|             110.0|     29.74|  9.51| 14.87|            36.99|11.6|\n",
            "|    Miracle|   Carnival|  9|              88.5|     21.24|  9.63| 10.62|            41.67|10.3|\n",
            "|   Paradise|   Carnival| 15|            70.367|     20.52|  8.55|  10.2|            34.29| 9.2|\n",
            "|      Pride|   Carnival| 12|              88.5|     21.24|  9.63| 11.62|            41.67| 9.3|\n",
            "|  Sensation|   Carnival| 20|            70.367|     20.52|  8.55|  10.2|            34.29| 9.2|\n",
            "+-----------+-----------+---+------------------+----------+------+------+-----------------+----+\n",
            "only showing top 20 rows\n",
            "\n"
          ]
        }
      ]
    },
    {
      "cell_type": "code",
      "source": [
        "df.describe().show()"
      ],
      "metadata": {
        "colab": {
          "base_uri": "https://localhost:8080/"
        },
        "id": "n090NucjWU4P",
        "outputId": "b38937e7-6f8a-4a54-a372-93ccd0d6cfa2"
      },
      "execution_count": null,
      "outputs": [
        {
          "output_type": "stream",
          "name": "stdout",
          "text": [
            "+-------+---------+-----------+------------------+------------------+-----------------+-----------------+------------------+-----------------+-----------------+\n",
            "|summary|Ship_name|Cruise_line|               Age|           Tonnage|       passengers|           length|            cabins|passenger_density|             crew|\n",
            "+-------+---------+-----------+------------------+------------------+-----------------+-----------------+------------------+-----------------+-----------------+\n",
            "|  count|      158|        158|               158|               158|              158|              158|               158|              158|              158|\n",
            "|   mean| Infinity|       NULL|15.689873417721518| 71.28467088607599|18.45740506329114|8.130632911392404| 8.830000000000005|39.90094936708861|7.794177215189873|\n",
            "| stddev|     NULL|       NULL| 7.615691058751413|37.229540025907866|9.677094775143416|1.793473548054825|4.4714172221480615| 8.63921711391542|3.503486564627034|\n",
            "|    min|Adventure|    Azamara|                 4|             2.329|             0.66|             2.79|              0.33|             17.7|             0.59|\n",
            "|    max|Zuiderdam|   Windstar|                48|             220.0|             54.0|            11.82|              27.0|            71.43|             21.0|\n",
            "+-------+---------+-----------+------------------+------------------+-----------------+-----------------+------------------+-----------------+-----------------+\n",
            "\n"
          ]
        }
      ]
    },
    {
      "cell_type": "markdown",
      "metadata": {
        "id": "1QTNLhZSlf9_"
      },
      "source": [
        "### StringIndexer and OneHotEncoder\n",
        "- Create StringIndexer and OneHotEncoder to process the data.\n",
        "- StringIndexer is for any string data type.\n",
        "- OneHotEncoder will be applied to the StringIndexer columns.\n",
        "- Convert all obtained columns from OneHotEncoder and the other numeric columns into a feature column (use VectorAssembler)"
      ]
    },
    {
      "cell_type": "code",
      "source": [
        "dtypes=df.dtypes"
      ],
      "metadata": {
        "id": "fUq2tjw4YXcp"
      },
      "execution_count": null,
      "outputs": []
    },
    {
      "cell_type": "code",
      "execution_count": null,
      "metadata": {
        "colab": {
          "base_uri": "https://localhost:8080/"
        },
        "id": "8ibMNLiIEZMn",
        "outputId": "6bb83c7d-fe26-4955-9fa4-75f5fd3fe233"
      },
      "outputs": [
        {
          "output_type": "execute_result",
          "data": {
            "text/plain": [
              "[('Ship_name', 'string'),\n",
              " ('Cruise_line', 'string'),\n",
              " ('Age', 'int'),\n",
              " ('Tonnage', 'double'),\n",
              " ('passengers', 'double'),\n",
              " ('length', 'double'),\n",
              " ('cabins', 'double'),\n",
              " ('passenger_density', 'double'),\n",
              " ('crew', 'double')]"
            ]
          },
          "metadata": {},
          "execution_count": 72
        }
      ],
      "source": [
        "dtypes"
      ]
    },
    {
      "cell_type": "markdown",
      "source": [
        "## StringIndexer"
      ],
      "metadata": {
        "id": "pvCB6E_-cA_8"
      }
    },
    {
      "cell_type": "code",
      "execution_count": null,
      "metadata": {
        "colab": {
          "base_uri": "https://localhost:8080/"
        },
        "id": "-ZZxxxKLZnOF",
        "outputId": "ec9f6596-8b68-401f-cadd-4d3da636abb0"
      },
      "outputs": [
        {
          "output_type": "execute_result",
          "data": {
            "text/plain": [
              "['Ship_name', 'Cruise_line']"
            ]
          },
          "metadata": {},
          "execution_count": 73
        }
      ],
      "source": [
        "CatCols= [ s for (s,d) in dtypes if d==\"string\"]\n",
        "CatCols"
      ]
    },
    {
      "cell_type": "code",
      "execution_count": null,
      "metadata": {
        "colab": {
          "base_uri": "https://localhost:8080/"
        },
        "id": "AZ1jD7QoEeT1",
        "outputId": "f51ec3e9-8be1-4d77-8e06-cfd170322d52"
      },
      "outputs": [
        {
          "output_type": "execute_result",
          "data": {
            "text/plain": [
              "['Ship_name_indexed', 'Cruise_line_indexed']"
            ]
          },
          "metadata": {},
          "execution_count": 74
        }
      ],
      "source": [
        "catCols_indexed= [ s+\"_indexed\" for s in CatCols]\n",
        "catCols_indexed"
      ]
    },
    {
      "cell_type": "code",
      "source": [
        "stind=StringIndexer(inputCols=CatCols,outputCols=catCols_indexed,handleInvalid=\"keep\")\n"
      ],
      "metadata": {
        "id": "SLCd-_psapfF"
      },
      "execution_count": null,
      "outputs": []
    },
    {
      "cell_type": "markdown",
      "source": [
        "## OneHotEncoder"
      ],
      "metadata": {
        "id": "sSZFnbkxcDWG"
      }
    },
    {
      "cell_type": "code",
      "execution_count": null,
      "metadata": {
        "colab": {
          "base_uri": "https://localhost:8080/"
        },
        "id": "Yes7nhEoEkOy",
        "outputId": "37a53f30-3a02-412c-d7f4-07546a73db4d"
      },
      "outputs": [
        {
          "output_type": "execute_result",
          "data": {
            "text/plain": [
              "['Ship_name_ohe', 'Cruise_line_ohe']"
            ]
          },
          "metadata": {},
          "execution_count": 76
        }
      ],
      "source": [
        "catCols_ohe= [ s+\"_ohe\" for s in CatCols]\n",
        "catCols_ohe"
      ]
    },
    {
      "cell_type": "code",
      "execution_count": null,
      "metadata": {
        "id": "MOP76_33En9D"
      },
      "outputs": [],
      "source": [
        "ohe=OneHotEncoder(inputCols=catCols_indexed,outputCols=catCols_ohe)"
      ]
    },
    {
      "cell_type": "code",
      "execution_count": null,
      "metadata": {
        "colab": {
          "base_uri": "https://localhost:8080/"
        },
        "id": "KfTf34ugE8or",
        "outputId": "4f079c5e-e5e4-4fc8-9118-e5957e1f6f00"
      },
      "outputs": [
        {
          "output_type": "execute_result",
          "data": {
            "text/plain": [
              "['Age',\n",
              " 'Tonnage',\n",
              " 'passengers',\n",
              " 'length',\n",
              " 'cabins',\n",
              " 'passenger_density',\n",
              " 'crew']"
            ]
          },
          "metadata": {},
          "execution_count": 78
        }
      ],
      "source": [
        "numCols= [ s for (s,d) in dtypes if d!=\"string\"]\n",
        "numCols"
      ]
    },
    {
      "cell_type": "markdown",
      "source": [
        "# Imputing"
      ],
      "metadata": {
        "id": "rKadbiT-d3fx"
      }
    },
    {
      "cell_type": "code",
      "source": [
        "imput=Imputer(inputCols=numCols,outputCols=numCols)"
      ],
      "metadata": {
        "id": "NG2yJDNod5lK"
      },
      "execution_count": null,
      "outputs": []
    },
    {
      "cell_type": "markdown",
      "source": [
        "## collect categorical and number columns"
      ],
      "metadata": {
        "id": "8VCpiqVccPYN"
      }
    },
    {
      "cell_type": "code",
      "execution_count": null,
      "metadata": {
        "colab": {
          "base_uri": "https://localhost:8080/"
        },
        "id": "QbaaBsjuFFnB",
        "outputId": "4ec6217f-86a7-447e-ab8b-4da7de200122"
      },
      "outputs": [
        {
          "output_type": "execute_result",
          "data": {
            "text/plain": [
              "['Ship_name_ohe',\n",
              " 'Cruise_line_ohe',\n",
              " 'Age',\n",
              " 'Tonnage',\n",
              " 'passengers',\n",
              " 'length',\n",
              " 'cabins',\n",
              " 'passenger_density',\n",
              " 'crew']"
            ]
          },
          "metadata": {},
          "execution_count": 80
        }
      ],
      "source": [
        "vec_Cols=catCols_ohe+numCols\n",
        "vec_Cols"
      ]
    },
    {
      "cell_type": "code",
      "source": [
        "final_cols=['Ship_name_ohe',\n",
        " 'Cruise_line_ohe',\n",
        " 'Age',\n",
        " 'Tonnage',\n",
        " 'passengers',\n",
        " 'length',\n",
        " 'cabins',\n",
        " 'passenger_density']"
      ],
      "metadata": {
        "id": "bRPUBx3Q4km_"
      },
      "execution_count": null,
      "outputs": []
    },
    {
      "cell_type": "markdown",
      "source": [
        "## VectorAssembler"
      ],
      "metadata": {
        "id": "ckPdTRZVchjs"
      }
    },
    {
      "cell_type": "code",
      "execution_count": null,
      "metadata": {
        "id": "pE4ohNjVZnOG"
      },
      "outputs": [],
      "source": [
        "vecAssem=VectorAssembler(inputCols=final_cols,outputCol=\"features\")"
      ]
    },
    {
      "cell_type": "code",
      "execution_count": null,
      "metadata": {
        "id": "1olRCArpZnOH",
        "colab": {
          "base_uri": "https://localhost:8080/"
        },
        "outputId": "a772adcf-b9d1-420c-b51d-d7009fa0074e"
      },
      "outputs": [
        {
          "output_type": "execute_result",
          "data": {
            "text/plain": [
              "VectorAssembler_296304a98990"
            ]
          },
          "metadata": {},
          "execution_count": 86
        }
      ],
      "source": []
    },
    {
      "cell_type": "markdown",
      "metadata": {
        "id": "bT09ZdcPPnVJ"
      },
      "source": [
        "### Divide the data into Train/Test"
      ]
    },
    {
      "cell_type": "code",
      "execution_count": null,
      "metadata": {
        "id": "WvfvqnC0PnVK",
        "outputId": "25b3d713-daa7-437a-cdb5-29aac773e239",
        "colab": {
          "base_uri": "https://localhost:8080/"
        }
      },
      "outputs": [
        {
          "output_type": "stream",
          "name": "stdout",
          "text": [
            "There are 133 rows in the training set, and 25 in the test set\n"
          ]
        }
      ],
      "source": [
        "train_df, test_df=df.randomSplit([0.8,0.2],seed=42)\n",
        "print(f\"There are {train_df.count()} rows in the training set, and {test_df.count()} in the test set\")"
      ]
    },
    {
      "cell_type": "markdown",
      "metadata": {
        "id": "Rbf56f6AmUUl"
      },
      "source": [
        "### Create a Linear Regression Model"
      ]
    },
    {
      "cell_type": "code",
      "execution_count": null,
      "metadata": {
        "id": "XRv5JqFmZnOJ"
      },
      "outputs": [],
      "source": [
        "lr=LinearRegression(featuresCol=\"features\",labelCol=\"crew\",predictionCol=\"prediction\")"
      ]
    },
    {
      "cell_type": "markdown",
      "metadata": {
        "id": "dVdxQTcSC6Cz"
      },
      "source": [
        "### Create a Pipeline model"
      ]
    },
    {
      "cell_type": "code",
      "execution_count": null,
      "metadata": {
        "id": "M2hobdTLC---"
      },
      "outputs": [],
      "source": [
        "pipe=Pipeline(stages=[stind,ohe,imput,vecAssem,lr])"
      ]
    },
    {
      "cell_type": "markdown",
      "metadata": {
        "id": "aWdmVyovPnVL"
      },
      "source": [
        "### Fit the Pipeline model to the trainig data"
      ]
    },
    {
      "cell_type": "code",
      "execution_count": null,
      "metadata": {
        "id": "0toYfPVwPnVL"
      },
      "outputs": [],
      "source": [
        "pipe_model=pipe.fit(train_df)"
      ]
    },
    {
      "cell_type": "markdown",
      "metadata": {
        "id": "ymp1oGBRPnVM"
      },
      "source": [
        "### Make a prediction for the same training data and evaluate the model performance using RMSE and r2"
      ]
    },
    {
      "cell_type": "code",
      "execution_count": null,
      "metadata": {
        "id": "zHyEJmL7GeiL"
      },
      "outputs": [],
      "source": [
        "pred_train_df=pipe_model.transform(train_df)"
      ]
    },
    {
      "cell_type": "code",
      "source": [
        "pred_train_df.show(5)"
      ],
      "metadata": {
        "colab": {
          "base_uri": "https://localhost:8080/"
        },
        "id": "REih98fXfFAU",
        "outputId": "17d071bc-b53a-4ce9-d57b-08fef9e9a446"
      },
      "execution_count": null,
      "outputs": [
        {
          "output_type": "stream",
          "name": "stdout",
          "text": [
            "+---------+---------------+---+-------+----------+------+------+-----------------+-----+-----------------+-------------------+----------------+---------------+--------------------+------------------+\n",
            "|Ship_name|    Cruise_line|Age|Tonnage|passengers|length|cabins|passenger_density| crew|Ship_name_indexed|Cruise_line_indexed|   Ship_name_ohe|Cruise_line_ohe|            features|        prediction|\n",
            "+---------+---------------+---+-------+----------+------+------+-----------------+-----+-----------------+-------------------+----------------+---------------+--------------------+------------------+\n",
            "|Adventure|Royal_Caribbean| 12|  138.0|     31.14|  10.2| 15.57|            44.32|11.85|             12.0|                1.0|(118,[12],[1.0])| (19,[1],[1.0])|(143,[12,119,137,...|11.849778861198041|\n",
            "|  Allegra|          Costa| 21|  28.43|      8.08|  6.16|   4.1|            35.19|  4.0|             13.0|                5.0|(118,[13],[1.0])| (19,[5],[1.0])|(143,[13,123,137,...|4.0005990286325455|\n",
            "|  Arcadia|            P&O|  9|   85.0|     19.68|  9.35|  9.84|            43.19| 8.69|             14.0|               10.0|(118,[14],[1.0])|(19,[10],[1.0])|(143,[14,128,137,...|   8.6897000785097|\n",
            "|    Aries|           Star| 22|  3.341|      0.66|   2.8|  0.33|            50.62| 0.59|             15.0|                9.0|(118,[15],[1.0])| (19,[9],[1.0])|(143,[15,127,137,...|0.5894661836076696|\n",
            "|  Armonia|            MSC| 12|   58.6|     15.66|  8.24|  7.83|            37.42|  7.0|             16.0|                7.0|(118,[16],[1.0])| (19,[7],[1.0])|(143,[16,125,137,...| 6.999378228337263|\n",
            "+---------+---------------+---+-------+----------+------+------+-----------------+-----+-----------------+-------------------+----------------+---------------+--------------------+------------------+\n",
            "only showing top 5 rows\n",
            "\n"
          ]
        }
      ]
    },
    {
      "cell_type": "code",
      "execution_count": null,
      "metadata": {
        "id": "3Bku7eOVHKbF"
      },
      "outputs": [],
      "source": []
    },
    {
      "cell_type": "code",
      "execution_count": null,
      "metadata": {
        "id": "IlBxe6oTHRhu",
        "colab": {
          "base_uri": "https://localhost:8080/"
        },
        "outputId": "11656e39-3bd7-4208-bc36-92041d93d603"
      },
      "outputs": [
        {
          "output_type": "execute_result",
          "data": {
            "text/plain": [
              "0.07108459353708453"
            ]
          },
          "metadata": {},
          "execution_count": 96
        }
      ],
      "source": [
        "rmse_evaluator_train=RegressionEvaluator(predictionCol=\"prediction\",labelCol=\"crew\",metricName=\"rmse\")\n",
        "rmse_evaluator_train.evaluate(pred_train_df)"
      ]
    },
    {
      "cell_type": "code",
      "source": [
        "r2_evaluator_train=RegressionEvaluator(predictionCol=\"prediction\",labelCol=\"crew\",metricName=\"r2\")\n",
        "r2_evaluator_train.evaluate(pred_train_df)"
      ],
      "metadata": {
        "colab": {
          "base_uri": "https://localhost:8080/"
        },
        "id": "h3D24oARf6O8",
        "outputId": "86e89c7c-057c-4b32-e2bb-b05f6d4963a1"
      },
      "execution_count": null,
      "outputs": [
        {
          "output_type": "execute_result",
          "data": {
            "text/plain": [
              "0.9995973796114396"
            ]
          },
          "metadata": {},
          "execution_count": 97
        }
      ]
    },
    {
      "cell_type": "markdown",
      "metadata": {
        "id": "SaDnyqXSPnVO"
      },
      "source": [
        "### Make a prediction for the test data and evaluate the model performance using RMSE and r2"
      ]
    },
    {
      "cell_type": "code",
      "execution_count": null,
      "metadata": {
        "id": "82d_-rsuglcY"
      },
      "outputs": [],
      "source": [
        "pred_test_df=pipe_model.transform(test_df)"
      ]
    },
    {
      "cell_type": "code",
      "source": [
        "pred_test_df.show(5)"
      ],
      "metadata": {
        "colab": {
          "base_uri": "https://localhost:8080/"
        },
        "outputId": "ce32e96f-a8ef-42a7-98c8-9b7e3177e961",
        "id": "qahgK2dkglcZ"
      },
      "execution_count": null,
      "outputs": [
        {
          "output_type": "stream",
          "name": "stdout",
          "text": [
            "+---------+----------------+---+-------+----------+------+------+-----------------+----+-----------------+-------------------+----------------+---------------+--------------------+------------------+\n",
            "|Ship_name|     Cruise_line|Age|Tonnage|passengers|length|cabins|passenger_density|crew|Ship_name_indexed|Cruise_line_indexed|   Ship_name_ohe|Cruise_line_ohe|            features|        prediction|\n",
            "+---------+----------------+---+-------+----------+------+------+-----------------+----+-----------------+-------------------+----------------+---------------+--------------------+------------------+\n",
            "|Amsterdam|Holland_American| 13|   61.0|      13.8|   7.8|  6.88|             44.2| 6.0|            118.0|                3.0|     (118,[],[])| (19,[3],[1.0])|(143,[121,137,138...| 6.043648879259668|\n",
            "|  Artemis|             P&O| 29|   45.0|     11.78|  7.54|   5.3|             38.2| 5.2|            118.0|               10.0|     (118,[],[])|(19,[10],[1.0])|(143,[128,137,138...|3.6513892147390923|\n",
            "|   Aurora|             P&O| 13|   76.0|     18.74|  8.86|  9.39|            40.55| 8.5|            118.0|               10.0|     (118,[],[])|(19,[10],[1.0])|(143,[128,137,138...| 7.977653986005367|\n",
            "| Classica|           Costa| 22| 52.926|     13.02|  7.18|  6.54|            40.65|6.17|            118.0|                5.0|     (118,[],[])| (19,[5],[1.0])|(143,[123,137,138...| 4.576317705367992|\n",
            "|    Crown|        Princess|  7|  116.0|      31.0|  9.51| 15.57|            37.42|12.0|             26.0|                2.0|(118,[26],[1.0])| (19,[2],[1.0])|(143,[26,120,137,...|14.990265563174235|\n",
            "+---------+----------------+---+-------+----------+------+------+-----------------+----+-----------------+-------------------+----------------+---------------+--------------------+------------------+\n",
            "only showing top 5 rows\n",
            "\n"
          ]
        }
      ]
    },
    {
      "cell_type": "code",
      "execution_count": null,
      "metadata": {
        "colab": {
          "base_uri": "https://localhost:8080/"
        },
        "outputId": "f2f51976-96ea-445b-cc6a-0654226a8636",
        "id": "sSb4ItImglcZ"
      },
      "outputs": [
        {
          "output_type": "execute_result",
          "data": {
            "text/plain": [
              "1.9393240955972992"
            ]
          },
          "metadata": {},
          "execution_count": 100
        }
      ],
      "source": [
        "rmse_evaluator_test=RegressionEvaluator(predictionCol=\"prediction\",labelCol=\"crew\",metricName=\"rmse\")\n",
        "rmse_evaluator_test.evaluate(pred_test_df)"
      ]
    },
    {
      "cell_type": "code",
      "source": [
        "r2_evaluator_test=RegressionEvaluator(predictionCol=\"prediction\",labelCol=\"crew\",metricName=\"r2\")\n",
        "r2_evaluator_test.evaluate(pred_test_df)"
      ],
      "metadata": {
        "colab": {
          "base_uri": "https://localhost:8080/"
        },
        "outputId": "fc765ac0-30c9-4795-a04c-678e54266afd",
        "id": "wyE9Gce0glca"
      },
      "execution_count": null,
      "outputs": [
        {
          "output_type": "execute_result",
          "data": {
            "text/plain": [
              "0.6291305506372632"
            ]
          },
          "metadata": {},
          "execution_count": 101
        }
      ]
    },
    {
      "cell_type": "code",
      "source": [
        "print(f\"RMSE is {rmse_evaluator_test.evaluate(pred_test_df)}\")\n",
        "print(f\"R2 is {r2_evaluator_test.evaluate(pred_test_df)}\")"
      ],
      "metadata": {
        "colab": {
          "base_uri": "https://localhost:8080/"
        },
        "id": "RzrzSWZZg5lN",
        "outputId": "a2f6ac16-e0e8-4ab2-e119-172e3ca568b9"
      },
      "execution_count": null,
      "outputs": [
        {
          "output_type": "stream",
          "name": "stdout",
          "text": [
            "RMSE is 1.9393240955972992\n",
            "R2 is 0.6291305506372632\n"
          ]
        }
      ]
    },
    {
      "cell_type": "code",
      "execution_count": null,
      "metadata": {
        "id": "vekgTx4BPnVP"
      },
      "outputs": [],
      "source": []
    }
  ],
  "metadata": {
    "colab": {
      "provenance": []
    },
    "kernelspec": {
      "display_name": "Python 3 (ipykernel)",
      "language": "python",
      "name": "python3"
    },
    "language_info": {
      "codemirror_mode": {
        "name": "ipython",
        "version": 3
      },
      "file_extension": ".py",
      "mimetype": "text/x-python",
      "name": "python",
      "nbconvert_exporter": "python",
      "pygments_lexer": "ipython3",
      "version": "3.9.13"
    }
  },
  "nbformat": 4,
  "nbformat_minor": 0
}