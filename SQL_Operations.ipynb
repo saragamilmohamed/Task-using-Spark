{
  "cells": [
    {
      "cell_type": "code",
      "source": [
        "from google.colab import drive\n",
        "drive.mount('/content/drive')"
      ],
      "metadata": {
        "colab": {
          "base_uri": "https://localhost:8080/"
        },
        "id": "IoOpRvUObnTn",
        "outputId": "adee6b19-ffa4-44f6-d0e3-08ddd766d11c"
      },
      "id": "IoOpRvUObnTn",
      "execution_count": 2,
      "outputs": [
        {
          "output_type": "stream",
          "name": "stdout",
          "text": [
            "Mounted at /content/drive\n"
          ]
        }
      ]
    },
    {
      "cell_type": "markdown",
      "id": "85669f91",
      "metadata": {
        "id": "85669f91"
      },
      "source": [
        "### Create SparkSession:"
      ]
    },
    {
      "cell_type": "code",
      "execution_count": 3,
      "id": "410014d6",
      "metadata": {
        "id": "410014d6"
      },
      "outputs": [],
      "source": [
        "import pyspark\n",
        "from pyspark.sql import SparkSession\n",
        "spark = SparkSession.builder.getOrCreate()\n",
        "from pyspark.sql.functions import *\n",
        "from pyspark.sql.types import *\n",
        "from pyspark.sql import functions as F\n"
      ]
    },
    {
      "cell_type": "markdown",
      "id": "e0882328",
      "metadata": {
        "id": "e0882328"
      },
      "source": [
        "### Read the DataFrames_sample.json file:"
      ]
    },
    {
      "cell_type": "code",
      "execution_count": 10,
      "id": "61c8b969",
      "metadata": {
        "id": "61c8b969"
      },
      "outputs": [],
      "source": [
        "df=spark.read.json(\"/content/drive/MyDrive/Data (1)/Data/DataFrames_sample.json\")"
      ]
    },
    {
      "cell_type": "markdown",
      "id": "ba09cf4d",
      "metadata": {
        "id": "ba09cf4d"
      },
      "source": [
        "### Display part of the data and schema:\n"
      ]
    },
    {
      "cell_type": "code",
      "execution_count": 11,
      "id": "c7f95eeb",
      "metadata": {
        "colab": {
          "base_uri": "https://localhost:8080/"
        },
        "id": "c7f95eeb",
        "outputId": "da37ef3a-2941-4c6c-cbc3-0a38c62b3669"
      },
      "outputs": [
        {
          "output_type": "stream",
          "name": "stdout",
          "text": [
            "+----+----+---------+---+-----------+----+----------+-----+------+----+\n",
            "|   D|   H|      HDD| Id|      Model| RAM|ScreenSize|    W|Weight|Year|\n",
            "+----+----+---------+---+-----------+----+----------+-----+------+----+\n",
            "|9.48|0.61|512GB SSD|  1|MacBook Pro|16GB|       15\"|13.75|  4.02|2015|\n",
            "|7.74|0.52|256GB SSD|  2|    MacBook| 8GB|       12\"|11.04|  2.03|2016|\n",
            "|8.94|0.68|128GB SSD|  3|MacBook Air| 8GB|     13.3\"| 12.8|  2.96|2016|\n",
            "| 8.0|20.3|  1TB SSD|  4|       iMac|64GB|       27\"| 25.6|  20.8|2017|\n",
            "+----+----+---------+---+-----------+----+----------+-----+------+----+\n",
            "\n"
          ]
        }
      ],
      "source": [
        "df.show()"
      ]
    },
    {
      "cell_type": "code",
      "source": [
        "df.printSchema()"
      ],
      "metadata": {
        "colab": {
          "base_uri": "https://localhost:8080/"
        },
        "id": "KfFIYqayfxJz",
        "outputId": "949971fe-56ed-4f2d-f235-1b40f284866f"
      },
      "id": "KfFIYqayfxJz",
      "execution_count": 12,
      "outputs": [
        {
          "output_type": "stream",
          "name": "stdout",
          "text": [
            "root\n",
            " |-- D: double (nullable = true)\n",
            " |-- H: double (nullable = true)\n",
            " |-- HDD: string (nullable = true)\n",
            " |-- Id: long (nullable = true)\n",
            " |-- Model: string (nullable = true)\n",
            " |-- RAM: string (nullable = true)\n",
            " |-- ScreenSize: string (nullable = true)\n",
            " |-- W: double (nullable = true)\n",
            " |-- Weight: double (nullable = true)\n",
            " |-- Year: long (nullable = true)\n",
            "\n"
          ]
        }
      ]
    },
    {
      "cell_type": "markdown",
      "id": "981f5434",
      "metadata": {
        "id": "981f5434"
      },
      "source": [
        "## Using SQL\n",
        "### Create Temp View:"
      ]
    },
    {
      "cell_type": "code",
      "execution_count": 19,
      "id": "1c868466",
      "metadata": {
        "id": "1c868466"
      },
      "outputs": [],
      "source": [
        "df.createOrReplaceTempView(\"table1\")"
      ]
    },
    {
      "cell_type": "markdown",
      "id": "c7604e3c",
      "metadata": {
        "id": "c7604e3c"
      },
      "source": [
        "### Display \"RAM\"column and count \"RAM\" column:"
      ]
    },
    {
      "cell_type": "code",
      "source": [
        "count_ram=spark.sql(\"SELECT RAM ,COUNT(RAM) AS C FROM table1 GROUP BY RAM\")\n",
        "count_ram.show()"
      ],
      "metadata": {
        "colab": {
          "base_uri": "https://localhost:8080/"
        },
        "id": "CYGHb29ogEii",
        "outputId": "2a1b490b-095d-43cf-bd7a-8353df6903de"
      },
      "id": "CYGHb29ogEii",
      "execution_count": 20,
      "outputs": [
        {
          "output_type": "stream",
          "name": "stdout",
          "text": [
            "+----+---+\n",
            "| RAM|  C|\n",
            "+----+---+\n",
            "|64GB|  1|\n",
            "|16GB|  1|\n",
            "| 8GB|  2|\n",
            "+----+---+\n",
            "\n"
          ]
        }
      ]
    },
    {
      "cell_type": "markdown",
      "id": "35410e83",
      "metadata": {
        "id": "35410e83"
      },
      "source": [
        "### Get all columns when \"Year\" column equal \"2015\"  "
      ]
    },
    {
      "cell_type": "code",
      "source": [
        "year_2015=spark.sql(\"SELECT * FROM table1 WHERE YEAR==2015\")\n",
        "year_2015.show()"
      ],
      "metadata": {
        "colab": {
          "base_uri": "https://localhost:8080/"
        },
        "id": "TI5LjbPQhgx-",
        "outputId": "edd4b6d7-3a2b-4992-90f7-af90ca04bf85"
      },
      "id": "TI5LjbPQhgx-",
      "execution_count": 23,
      "outputs": [
        {
          "output_type": "stream",
          "name": "stdout",
          "text": [
            "+----+----+---------+---+-----------+----+----------+-----+------+----+\n",
            "|   D|   H|      HDD| Id|      Model| RAM|ScreenSize|    W|Weight|Year|\n",
            "+----+----+---------+---+-----------+----+----------+-----+------+----+\n",
            "|9.48|0.61|512GB SSD|  1|MacBook Pro|16GB|       15\"|13.75|  4.02|2015|\n",
            "+----+----+---------+---+-----------+----+----------+-----+------+----+\n",
            "\n"
          ]
        }
      ]
    },
    {
      "cell_type": "markdown",
      "id": "69e0a655",
      "metadata": {
        "id": "69e0a655"
      },
      "source": [
        "### Get all when \"Model\" start with \"M\":"
      ]
    },
    {
      "cell_type": "code",
      "source": [
        "MODEL_M=spark.sql(\"SELECT MODEL FROM table1 WHERE MODEL LIKE 'M%'\")\n",
        "MODEL_M.show()"
      ],
      "metadata": {
        "colab": {
          "base_uri": "https://localhost:8080/"
        },
        "id": "_BBPFbrjh2rX",
        "outputId": "dda6d182-e04d-41c6-82b4-ae4994c79e24"
      },
      "id": "_BBPFbrjh2rX",
      "execution_count": 25,
      "outputs": [
        {
          "output_type": "stream",
          "name": "stdout",
          "text": [
            "+-----------+\n",
            "|      MODEL|\n",
            "+-----------+\n",
            "|MacBook Pro|\n",
            "|    MacBook|\n",
            "|MacBook Air|\n",
            "+-----------+\n",
            "\n"
          ]
        }
      ]
    },
    {
      "cell_type": "markdown",
      "id": "437d72ca",
      "metadata": {
        "id": "437d72ca"
      },
      "source": [
        "### Get all data when \"Model\" column equal \"MacBook Pro\""
      ]
    },
    {
      "cell_type": "code",
      "source": [
        "MODEL_MacBook=spark.sql(\"SELECT * FROM table1 WHERE MODEL=='MacBook Pro' \")\n",
        "MODEL_MacBook.show()"
      ],
      "metadata": {
        "colab": {
          "base_uri": "https://localhost:8080/"
        },
        "id": "_t56646iiEtY",
        "outputId": "b48ac384-7c55-4341-8248-1e0c8d782387"
      },
      "id": "_t56646iiEtY",
      "execution_count": 26,
      "outputs": [
        {
          "output_type": "stream",
          "name": "stdout",
          "text": [
            "+----+----+---------+---+-----------+----+----------+-----+------+----+\n",
            "|   D|   H|      HDD| Id|      Model| RAM|ScreenSize|    W|Weight|Year|\n",
            "+----+----+---------+---+-----------+----+----------+-----+------+----+\n",
            "|9.48|0.61|512GB SSD|  1|MacBook Pro|16GB|       15\"|13.75|  4.02|2015|\n",
            "+----+----+---------+---+-----------+----+----------+-----+------+----+\n",
            "\n"
          ]
        }
      ]
    },
    {
      "cell_type": "markdown",
      "id": "be87a7b7",
      "metadata": {
        "id": "be87a7b7"
      },
      "source": [
        "### Get all data with Multiple Conditions when \"RAM\" column equal \"8GB\" and \"Model\" column is \"Macbook\"."
      ]
    },
    {
      "cell_type": "code",
      "source": [
        "RAM_AND_MODEL=spark.sql(\"SELECT * FROM table1 WHERE MODEL=='MacBook' AND RAM=='8GB'\")\n",
        "RAM_AND_MODEL.show()\n"
      ],
      "metadata": {
        "colab": {
          "base_uri": "https://localhost:8080/"
        },
        "id": "aY91R1QriUNO",
        "outputId": "2dcead69-fc86-4d55-c74d-9f33ea1767ee"
      },
      "id": "aY91R1QriUNO",
      "execution_count": 27,
      "outputs": [
        {
          "output_type": "stream",
          "name": "stdout",
          "text": [
            "+----+----+---------+---+-------+---+----------+-----+------+----+\n",
            "|   D|   H|      HDD| Id|  Model|RAM|ScreenSize|    W|Weight|Year|\n",
            "+----+----+---------+---+-------+---+----------+-----+------+----+\n",
            "|7.74|0.52|256GB SSD|  2|MacBook|8GB|       12\"|11.04|  2.03|2016|\n",
            "+----+----+---------+---+-------+---+----------+-----+------+----+\n",
            "\n"
          ]
        }
      ]
    },
    {
      "cell_type": "markdown",
      "id": "2f730cee",
      "metadata": {
        "id": "2f730cee"
      },
      "source": [
        "### Get all data with Multiple Conditions when \"D\" greater than or equal \"8\" and \"Model\" column is \"iMac\"."
      ]
    },
    {
      "cell_type": "code",
      "source": [
        "MODEL_D=spark.sql(\"SELECT * FROM table1 WHERE MODEL=='iMac' AND D>=8\")\n",
        "MODEL_D.show()"
      ],
      "metadata": {
        "colab": {
          "base_uri": "https://localhost:8080/"
        },
        "id": "Jh9_nzUUkBE9",
        "outputId": "5454875d-9fba-417b-b3f0-47c9f24c17f5"
      },
      "id": "Jh9_nzUUkBE9",
      "execution_count": 28,
      "outputs": [
        {
          "output_type": "stream",
          "name": "stdout",
          "text": [
            "+---+----+-------+---+-----+----+----------+----+------+----+\n",
            "|  D|   H|    HDD| Id|Model| RAM|ScreenSize|   W|Weight|Year|\n",
            "+---+----+-------+---+-----+----+----------+----+------+----+\n",
            "|8.0|20.3|1TB SSD|  4| iMac|64GB|       27\"|25.6|  20.8|2017|\n",
            "+---+----+-------+---+-----+----+----------+----+------+----+\n",
            "\n"
          ]
        }
      ]
    },
    {
      "cell_type": "code",
      "execution_count": null,
      "id": "8ba97c06",
      "metadata": {
        "id": "8ba97c06"
      },
      "outputs": [],
      "source": []
    }
  ],
  "metadata": {
    "kernelspec": {
      "display_name": "Python 3 (ipykernel)",
      "language": "python",
      "name": "python3"
    },
    "language_info": {
      "codemirror_mode": {
        "name": "ipython",
        "version": 3
      },
      "file_extension": ".py",
      "mimetype": "text/x-python",
      "name": "python",
      "nbconvert_exporter": "python",
      "pygments_lexer": "ipython3",
      "version": "3.9.13"
    },
    "colab": {
      "provenance": []
    }
  },
  "nbformat": 4,
  "nbformat_minor": 5
}